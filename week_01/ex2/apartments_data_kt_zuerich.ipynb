{
 "cells": [
  {
   "cell_type": "markdown",
   "id": "61847f62",
   "metadata": {},
   "source": [
    "# Import and analyze apartments data from the canton of Zuerich"
   ]
  },
  {
   "cell_type": "markdown",
   "id": "9b8df3dd",
   "metadata": {},
   "source": [
    "## Libararies and Settings"
   ]
  },
  {
   "cell_type": "code",
   "execution_count": 2,
   "id": "b027d889",
   "metadata": {},
   "outputs": [
    {
     "name": "stdout",
     "output_type": "stream",
     "text": [
      "u:\\Lektionen\\ADS_FS2023\\Dokumente_KK\\Week_01\\Docker_ADS_Jupyter_Notebook\n"
     ]
    },
    {
     "data": {
      "text/plain": [
       "['apartments_data_prepared.csv']"
      ]
     },
     "execution_count": 2,
     "metadata": {},
     "output_type": "execute_result"
    }
   ],
   "source": [
    "# Libraries\n",
    "import os\n",
    "import fnmatch\n",
    "import numpy as np\n",
    "import pandas as pd\n",
    "\n",
    "os.environ['MPLCONFIGDIR'] = \"/home/user\"\n",
    "import matplotlib.pyplot as plt\n",
    "\n",
    "# Settings\n",
    "import warnings\n",
    "warnings.filterwarnings(\"ignore\")\n",
    "\n",
    "# Current working directory\n",
    "print(os.getcwd())\n",
    "\n",
    "# Content of current working directory\n",
    "fnmatch.filter(os.listdir('.'), '*.csv')"
   ]
  },
  {
   "cell_type": "markdown",
   "id": "53f4b234",
   "metadata": {},
   "source": [
    "## Read data"
   ]
  },
  {
   "cell_type": "code",
   "execution_count": 3,
   "id": "ef32ffa2-1859-48af-a78c-0f1b5748fc98",
   "metadata": {},
   "outputs": [
    {
     "data": {
      "text/html": [
       "<div>\n",
       "<style scoped>\n",
       "    .dataframe tbody tr th:only-of-type {\n",
       "        vertical-align: middle;\n",
       "    }\n",
       "\n",
       "    .dataframe tbody tr th {\n",
       "        vertical-align: top;\n",
       "    }\n",
       "\n",
       "    .dataframe thead th {\n",
       "        text-align: right;\n",
       "    }\n",
       "</style>\n",
       "<table border=\"1\" class=\"dataframe\">\n",
       "  <thead>\n",
       "    <tr style=\"text-align: right;\">\n",
       "      <th></th>\n",
       "      <th>index</th>\n",
       "      <th>web-scraper-order</th>\n",
       "      <th>web-scraper-start-url</th>\n",
       "      <th>rooms_area_price_raw</th>\n",
       "      <th>address_raw</th>\n",
       "      <th>price_raw</th>\n",
       "      <th>description_raw</th>\n",
       "      <th>text_raw</th>\n",
       "      <th>rooms</th>\n",
       "      <th>area</th>\n",
       "      <th>price</th>\n",
       "    </tr>\n",
       "  </thead>\n",
       "  <tbody>\n",
       "    <tr>\n",
       "      <th>0</th>\n",
       "      <td>0</td>\n",
       "      <td>1662023695-433</td>\n",
       "      <td>https://www.immoscout24.ch/de/wohnung/mieten/k...</td>\n",
       "      <td>3,5 Zimmer, 122 m², CHF 3180.—</td>\n",
       "      <td>Sunnenbergstrasse 15, 8633 Wolfhausen, ZH</td>\n",
       "      <td>CHF 3180.—</td>\n",
       "      <td>«Grosse Galerie, Terrasse mit Pergola, Berg- u...</td>\n",
       "      <td>3,5 Zimmer, 122 m², CHF 3180.—Sunnenbergstrass...</td>\n",
       "      <td>3.5</td>\n",
       "      <td>122.0</td>\n",
       "      <td>3180.0</td>\n",
       "    </tr>\n",
       "    <tr>\n",
       "      <th>1</th>\n",
       "      <td>1</td>\n",
       "      <td>1662023745-820</td>\n",
       "      <td>https://www.immoscout24.ch/de/wohnung/mieten/k...</td>\n",
       "      <td>2,5 Zimmer, 78 m², CHF 3760.—</td>\n",
       "      <td>Lavaterstr. 63, 8002 Zürich, ZH</td>\n",
       "      <td>CHF 3760.—</td>\n",
       "      <td>«Wunderschöne Wohnung im Enge-Quartier»</td>\n",
       "      <td>2,5 Zimmer, 78 m², CHF 3760.—Lavaterstr. 63, 8...</td>\n",
       "      <td>2.5</td>\n",
       "      <td>78.0</td>\n",
       "      <td>3760.0</td>\n",
       "    </tr>\n",
       "    <tr>\n",
       "      <th>2</th>\n",
       "      <td>2</td>\n",
       "      <td>1662023742-807</td>\n",
       "      <td>https://www.immoscout24.ch/de/wohnung/mieten/k...</td>\n",
       "      <td>5,5 Zimmer, 115 m², CHF 2860.—</td>\n",
       "      <td>Langfurrenstrasse 5c, 8623 Wetzikon ZH, ZH</td>\n",
       "      <td>CHF 2860.—</td>\n",
       "      <td>«Wohnmomente zum Festhalten»</td>\n",
       "      <td>5,5 Zimmer, 115 m², CHF 2860.—Langfurrenstrass...</td>\n",
       "      <td>5.5</td>\n",
       "      <td>115.0</td>\n",
       "      <td>2860.0</td>\n",
       "    </tr>\n",
       "    <tr>\n",
       "      <th>3</th>\n",
       "      <td>3</td>\n",
       "      <td>1662023804-1290</td>\n",
       "      <td>https://www.immoscout24.ch/de/wohnung/mieten/k...</td>\n",
       "      <td>3,5 Zimmer, 74 m², CHF 2165.—</td>\n",
       "      <td>Sandbuckweg 5A, 8157 Dielsdorf, ZH</td>\n",
       "      <td>CHF 2165.—</td>\n",
       "      <td>«3,5 pièces, 74 m²»</td>\n",
       "      <td>top3,5 Zimmer, 74 m², CHF 2165.—Sandbuckweg 5A...</td>\n",
       "      <td>3.5</td>\n",
       "      <td>74.0</td>\n",
       "      <td>2165.0</td>\n",
       "    </tr>\n",
       "    <tr>\n",
       "      <th>4</th>\n",
       "      <td>4</td>\n",
       "      <td>1662023739-771</td>\n",
       "      <td>https://www.immoscout24.ch/de/wohnung/mieten/k...</td>\n",
       "      <td>5,5 Zimmer, 195 m², CHF 6900.—</td>\n",
       "      <td>Parkring 59, 8002 Zürich, ZH</td>\n",
       "      <td>CHF 6900.—</td>\n",
       "      <td>«Wohnanlage Im Parkring - Exklusive Wohnung zu...</td>\n",
       "      <td>5,5 Zimmer, 195 m², CHF 6900.—Parkring 59, 800...</td>\n",
       "      <td>5.5</td>\n",
       "      <td>195.0</td>\n",
       "      <td>6900.0</td>\n",
       "    </tr>\n",
       "  </tbody>\n",
       "</table>\n",
       "</div>"
      ],
      "text/plain": [
       "   index web-scraper-order                              web-scraper-start-url  \\\n",
       "0      0    1662023695-433  https://www.immoscout24.ch/de/wohnung/mieten/k...   \n",
       "1      1    1662023745-820  https://www.immoscout24.ch/de/wohnung/mieten/k...   \n",
       "2      2    1662023742-807  https://www.immoscout24.ch/de/wohnung/mieten/k...   \n",
       "3      3   1662023804-1290  https://www.immoscout24.ch/de/wohnung/mieten/k...   \n",
       "4      4    1662023739-771  https://www.immoscout24.ch/de/wohnung/mieten/k...   \n",
       "\n",
       "             rooms_area_price_raw                                 address_raw  \\\n",
       "0  3,5 Zimmer, 122 m², CHF 3180.—   Sunnenbergstrasse 15, 8633 Wolfhausen, ZH   \n",
       "1   2,5 Zimmer, 78 m², CHF 3760.—             Lavaterstr. 63, 8002 Zürich, ZH   \n",
       "2  5,5 Zimmer, 115 m², CHF 2860.—  Langfurrenstrasse 5c, 8623 Wetzikon ZH, ZH   \n",
       "3   3,5 Zimmer, 74 m², CHF 2165.—          Sandbuckweg 5A, 8157 Dielsdorf, ZH   \n",
       "4  5,5 Zimmer, 195 m², CHF 6900.—                Parkring 59, 8002 Zürich, ZH   \n",
       "\n",
       "    price_raw                                    description_raw  \\\n",
       "0  CHF 3180.—  «Grosse Galerie, Terrasse mit Pergola, Berg- u...   \n",
       "1  CHF 3760.—            «Wunderschöne Wohnung im Enge-Quartier»   \n",
       "2  CHF 2860.—                       «Wohnmomente zum Festhalten»   \n",
       "3  CHF 2165.—                                «3,5 pièces, 74 m²»   \n",
       "4  CHF 6900.—  «Wohnanlage Im Parkring - Exklusive Wohnung zu...   \n",
       "\n",
       "                                            text_raw  rooms   area   price  \n",
       "0  3,5 Zimmer, 122 m², CHF 3180.—Sunnenbergstrass...    3.5  122.0  3180.0  \n",
       "1  2,5 Zimmer, 78 m², CHF 3760.—Lavaterstr. 63, 8...    2.5   78.0  3760.0  \n",
       "2  5,5 Zimmer, 115 m², CHF 2860.—Langfurrenstrass...    5.5  115.0  2860.0  \n",
       "3  top3,5 Zimmer, 74 m², CHF 2165.—Sandbuckweg 5A...    3.5   74.0  2165.0  \n",
       "4  5,5 Zimmer, 195 m², CHF 6900.—Parkring 59, 800...    5.5  195.0  6900.0  "
      ]
     },
     "execution_count": 3,
     "metadata": {},
     "output_type": "execute_result"
    }
   ],
   "source": [
    "df_orig = pd.read_csv('apartments_data_prepared.csv', sep =',')\n",
    "\n",
    "# Remove missing values\n",
    "df = df_orig.dropna().reset_index(drop = False)\n",
    "df.head(5)"
   ]
  },
  {
   "cell_type": "markdown",
   "id": "5ec5ccf5-fb9b-4b6b-a530-319d8dd09d4c",
   "metadata": {},
   "source": [
    "## Create pivot-table with rooms, area & price_per_m2"
   ]
  },
  {
   "cell_type": "code",
   "execution_count": 4,
   "id": "8696279e-415d-485a-82d9-df5686a21c93",
   "metadata": {},
   "outputs": [
    {
     "data": {
      "text/html": [
       "<div>\n",
       "<style scoped>\n",
       "    .dataframe tbody tr th:only-of-type {\n",
       "        vertical-align: middle;\n",
       "    }\n",
       "\n",
       "    .dataframe tbody tr th {\n",
       "        vertical-align: top;\n",
       "    }\n",
       "\n",
       "    .dataframe thead th {\n",
       "        text-align: right;\n",
       "    }\n",
       "</style>\n",
       "<table border=\"1\" class=\"dataframe\">\n",
       "  <thead>\n",
       "    <tr style=\"text-align: right;\">\n",
       "      <th></th>\n",
       "      <th>area</th>\n",
       "      <th>price</th>\n",
       "      <th>price_per_m2</th>\n",
       "    </tr>\n",
       "    <tr>\n",
       "      <th>rooms</th>\n",
       "      <th></th>\n",
       "      <th></th>\n",
       "      <th></th>\n",
       "    </tr>\n",
       "  </thead>\n",
       "  <tbody>\n",
       "    <tr>\n",
       "      <th>1.0</th>\n",
       "      <td>41.936170</td>\n",
       "      <td>1502.553191</td>\n",
       "      <td>44.338166</td>\n",
       "    </tr>\n",
       "    <tr>\n",
       "      <th>1.5</th>\n",
       "      <td>61.173913</td>\n",
       "      <td>1939.869565</td>\n",
       "      <td>43.823293</td>\n",
       "    </tr>\n",
       "    <tr>\n",
       "      <th>2.0</th>\n",
       "      <td>56.054054</td>\n",
       "      <td>1665.162162</td>\n",
       "      <td>30.093830</td>\n",
       "    </tr>\n",
       "    <tr>\n",
       "      <th>2.5</th>\n",
       "      <td>68.968354</td>\n",
       "      <td>2312.873418</td>\n",
       "      <td>34.424862</td>\n",
       "    </tr>\n",
       "    <tr>\n",
       "      <th>3.0</th>\n",
       "      <td>68.597015</td>\n",
       "      <td>1828.208955</td>\n",
       "      <td>27.169927</td>\n",
       "    </tr>\n",
       "    <tr>\n",
       "      <th>3.5</th>\n",
       "      <td>87.104317</td>\n",
       "      <td>2364.489209</td>\n",
       "      <td>27.331950</td>\n",
       "    </tr>\n",
       "    <tr>\n",
       "      <th>4.0</th>\n",
       "      <td>86.750000</td>\n",
       "      <td>2234.711538</td>\n",
       "      <td>25.889290</td>\n",
       "    </tr>\n",
       "    <tr>\n",
       "      <th>4.5</th>\n",
       "      <td>111.344262</td>\n",
       "      <td>2656.322404</td>\n",
       "      <td>24.080866</td>\n",
       "    </tr>\n",
       "    <tr>\n",
       "      <th>5.0</th>\n",
       "      <td>124.769231</td>\n",
       "      <td>3257.230769</td>\n",
       "      <td>24.828969</td>\n",
       "    </tr>\n",
       "    <tr>\n",
       "      <th>5.5</th>\n",
       "      <td>139.258065</td>\n",
       "      <td>2970.096774</td>\n",
       "      <td>21.488971</td>\n",
       "    </tr>\n",
       "    <tr>\n",
       "      <th>6.0</th>\n",
       "      <td>153.000000</td>\n",
       "      <td>4240.000000</td>\n",
       "      <td>27.712418</td>\n",
       "    </tr>\n",
       "    <tr>\n",
       "      <th>6.5</th>\n",
       "      <td>194.000000</td>\n",
       "      <td>4760.000000</td>\n",
       "      <td>24.536082</td>\n",
       "    </tr>\n",
       "    <tr>\n",
       "      <th>9.0</th>\n",
       "      <td>300.000000</td>\n",
       "      <td>4000.000000</td>\n",
       "      <td>13.333333</td>\n",
       "    </tr>\n",
       "  </tbody>\n",
       "</table>\n",
       "</div>"
      ],
      "text/plain": [
       "             area        price  price_per_m2\n",
       "rooms                                       \n",
       "1.0     41.936170  1502.553191     44.338166\n",
       "1.5     61.173913  1939.869565     43.823293\n",
       "2.0     56.054054  1665.162162     30.093830\n",
       "2.5     68.968354  2312.873418     34.424862\n",
       "3.0     68.597015  1828.208955     27.169927\n",
       "3.5     87.104317  2364.489209     27.331950\n",
       "4.0     86.750000  2234.711538     25.889290\n",
       "4.5    111.344262  2656.322404     24.080866\n",
       "5.0    124.769231  3257.230769     24.828969\n",
       "5.5    139.258065  2970.096774     21.488971\n",
       "6.0    153.000000  4240.000000     27.712418\n",
       "6.5    194.000000  4760.000000     24.536082\n",
       "9.0    300.000000  4000.000000     13.333333"
      ]
     },
     "execution_count": 4,
     "metadata": {},
     "output_type": "execute_result"
    }
   ],
   "source": [
    "# Calculate price per m2\n",
    "df['price_per_m2'] = df['price'] / df['area']\n",
    "\n",
    "# Using pivot_table to reshape the data and calculate means \n",
    "pd.pivot_table(df[['rooms', 'price', 'price_per_m2', 'area']],\n",
    "               index=['rooms'],\n",
    "               values=['price', 'price_per_m2', 'area'],\n",
    "               aggfunc=np.mean)"
   ]
  },
  {
   "cell_type": "markdown",
   "id": "e3cc030d-c8bb-43a1-8b73-6eee4e88584d",
   "metadata": {},
   "source": [
    "## Plot apartment prices_per_m2"
   ]
  },
  {
   "cell_type": "code",
   "execution_count": 5,
   "id": "e57b9583-89b5-4b58-b8a1-1349f21d086a",
   "metadata": {},
   "outputs": [
    {
     "data": {
      "image/png": "[encoded data removed]",
      "text/plain": [
       "<Figure size 700x400 with 1 Axes>"
      ]
     },
     "metadata": {},
     "output_type": "display_data"
    }
   ],
   "source": [
    "# Plot Histogram\n",
    "fig = plt.figure( figsize=(7,4))\n",
    "plt.xticks(fontsize=14, rotation=0)\n",
    "plt.yticks(fontsize=14, rotation=0)\n",
    "n, bins, patches = plt.hist(x=df['price_per_m2'], \n",
    "                            bins=20, \n",
    "                            color='#F1C40F',\n",
    "                            alpha=1, \n",
    "                            rwidth=0.95\n",
    "                   )\n",
    "plt.grid(True)\n",
    "plt.ticklabel_format(style='plain')\n",
    "plt.grid(axis='y', alpha=0.75)\n",
    "\n",
    "# Set labels\n",
    "plt.xlabel('price', fontsize=10, labelpad=10)\n",
    "plt.ylabel('Frequency', fontsize=10, labelpad=10)\n",
    "plt.title('Histogram of apartment prices', fontsize=12, pad=10)\n",
    "\n",
    "# Set fontsize of tick labels\n",
    "plt.xticks(fontsize = 10)\n",
    "plt.yticks(fontsize = 10)\n",
    "\n",
    "plt.show()"
   ]
  },
  {
   "attachments": {},
   "cell_type": "markdown",
   "id": "a682f7f9",
   "metadata": {},
   "source": [
    "### Jupyter notebook --footer info-- (please always provide this at the end of each submitted notebook)"
   ]
  },
  {
   "cell_type": "code",
   "execution_count": 1,
   "id": "6bfda06f",
   "metadata": {},
   "outputs": [
    {
     "name": "stdout",
     "output_type": "stream",
     "text": [
      "-----------------------------------\n",
      "NT\n",
      "Windows | 10\n",
      "Datetime: 2023-02-08 08:06:56\n",
      "Python Version: 3.10.9\n",
      "-----------------------------------\n"
     ]
    }
   ],
   "source": [
    "import os\n",
    "import platform\n",
    "import socket\n",
    "from platform import python_version\n",
    "from datetime import datetime\n",
    "\n",
    "print('-----------------------------------')\n",
    "print(os.name.upper())\n",
    "print(platform.system(), '|', platform.release())\n",
    "print('Datetime:', datetime.now().strftime(\"%Y-%m-%d %H:%M:%S\"))\n",
    "print('Python Version:', python_version())\n",
    "print('-----------------------------------')"
   ]
  }
 ],
 "metadata": {
  "kernelspec": {
   "display_name": "adsenv",
   "language": "python",
   "name": "python3"
  },
  "language_info": {
   "codemirror_mode": {
    "name": "ipython",
    "version": 3
   },
   "file_extension": ".py",
   "mimetype": "text/x-python",
   "name": "python",
   "nbconvert_exporter": "python",
   "pygments_lexer": "ipython3",
   "version": "3.10.9"
  },
  "vscode": {
   "interpreter": {
    "hash": "18632da57c1a416bf8be4aa27ba4ca7c1f66541805f18b0825a162dab4e44f29"
   }
  }
 },
 "nbformat": 4,
 "nbformat_minor": 5
}
